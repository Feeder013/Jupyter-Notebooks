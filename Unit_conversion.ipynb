{
 "cells": [
  {
   "cell_type": "code",
   "execution_count": 2,
   "id": "de5d2c19-817c-40d0-aa7a-f8d943fe6584",
   "metadata": {},
   "outputs": [
    {
     "name": "stdin",
     "output_type": "stream",
     "text": [
      "Enter starting unit:  inch\n",
      "Enter converted unit:  feer\n",
      "Enter starting measurement in Inches:  dedej\n",
      "Enter starting measurement in Feet:  ffhjg\n",
      "Enter starting measurement in Yards:  djfjg\n"
     ]
    }
   ],
   "source": [
    "convert_from = input('Enter starting unit: ')\n",
    "convert_to = input('Enter converted unit: ')\n",
    "number_of_inches = input('Enter starting measurement in Inches: ')\n",
    "number_of_feet = input('Enter starting measurement in Feet: ')\n",
    "number_of_yards = input('Enter starting measurement in Yards: ')\n"
   ]
  },
  {
   "cell_type": "code",
   "execution_count": 17,
   "id": "a8586fc8-acf3-4de6-98c9-4151c703c184",
   "metadata": {},
   "outputs": [
    {
     "name": "stdin",
     "output_type": "stream",
     "text": [
      "Enter starting unit:  in\n",
      "Enter converted unit:  feet\n",
      "Enter starting measurement in Inches:  374646564\n"
     ]
    },
    {
     "name": "stdout",
     "output_type": "stream",
     "text": [
      "it's inches equals 31220547.0 feet\n"
     ]
    }
   ],
   "source": [
    "convert_from = input('Enter starting unit: ')\n",
    "convert_to = input('Enter converted unit: ')\n",
    "\n",
    "if convert_from.lower() in ['inches','inch','in']:\n",
    "    number_of_inches = int(input('Enter starting measurement in Inches: '))\n",
    "    if convert_to.lower() in ['feet','foot','ft']:\n",
    "        print('it\\'s inches equals ' + str(round(number_of_inches/12,2)) + ' feet')\n",
    "    elif convert_to.lower() in ['yards','yrds','yd','yard']:\n",
    "        print('it\\'s inches equals ' + str(round(number_of_inches/36,2)) + ' yards')\n",
    "    else:\n",
    "        print('Please enter inches,yards or feet')\n",
    "elif convert_from.lower() in ['feet','foot','ft']:\n",
    "    number_of_feet = int(input('Enter starting measurement in Feet: '))\n",
    "    if convert_to.lower() in ['inches','inch','in']:\n",
    "        print('it\\'s feet equals ' + str(round(number_of_inches * 12)) + ' inches')\n",
    "    elif convert_to.lower() in ['yards','yrds','yd','yard']:\n",
    "        print('it\\'s feet equals ' + str(round(number_of_inches/3,2)) + ' yards')\n",
    "    else:\n",
    "        print('Please enter inches,yards or feet')\n",
    "elif convert_from.lower() in ['yards','yrds','yd','yard']:\n",
    "    number_of_yards = int(input('Enter starting measurement in Yards: '))\n",
    "    if convert_to.lower() in ['inches','inch','in']:\n",
    "        print('it\\'s yards equals ' + str(round(number_of_inches * 36)) + ' inches')\n",
    "    elif convert_to.lower() in ['feet','foot','ft']:\n",
    "        print('it\\'s yards equals ' + str(round(number_of_inches * 3)) + ' feet')\n",
    "    else:\n",
    "        print('Please enter inches,yards or feet')\n",
    "else:\n",
    "    print('Please enter inches,yards or feet')"
   ]
  },
  {
   "cell_type": "code",
   "execution_count": null,
   "id": "d2f2f5d2-6499-4d5e-920f-2d2fb5e46aac",
   "metadata": {},
   "outputs": [],
   "source": []
  }
 ],
 "metadata": {
  "kernelspec": {
   "display_name": "Python 3 (ipykernel)",
   "language": "python",
   "name": "python3"
  },
  "language_info": {
   "codemirror_mode": {
    "name": "ipython",
    "version": 3
   },
   "file_extension": ".py",
   "mimetype": "text/x-python",
   "name": "python",
   "nbconvert_exporter": "python",
   "pygments_lexer": "ipython3",
   "version": "3.12.4"
  }
 },
 "nbformat": 4,
 "nbformat_minor": 5
}
