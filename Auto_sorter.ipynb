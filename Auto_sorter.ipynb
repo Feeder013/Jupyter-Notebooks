{
 "cells": [
  {
   "cell_type": "code",
   "execution_count": 16,
   "id": "9df07732-d7c2-4c2d-87ff-143bcbc6c5c4",
   "metadata": {},
   "outputs": [],
   "source": [
    "import os,shutil\n",
    "#\"C:\\Users\\DELL\\Documents\\Automatic sorter\"\n",
    "\n",
    "path = r'C:\\Users\\DELL\\Documents\\Automatic sorter\\\\'\n",
    "\n",
    "folder_names = ['CSV Files','Text Files','Image Files','Table Files']\n",
    "\n",
    "for folder in folder_names:\n",
    "    if not os.path.exists(path + folder):\n",
    "        os.makedirs(path + folder)\n",
    "\n",
    "file_names = os.listdir(path)\n",
    "file_names\n",
    "\n",
    "for file in file_names:\n",
    "    if '.csv' in file and not os.path.exists(path + 'CSV Files\\\\' + file):\n",
    "        shutil.move(path + file,path + 'CSV Files\\\\' + file)\n",
    "    elif '.png' in file and not os.path.exists(path + 'Image Files\\\\' + file):\n",
    "        shutil.move(path + file,path + 'Image Files\\\\' + file)\n",
    "    elif '.txt' in file and not os.path.exists(path + 'Text Files\\\\' + file):\n",
    "        shutil.move(path + file,path + 'Text Files\\\\' + file)\n",
    "    elif '.tsv' in file and not os.path.exists(path + 'Table Files\\\\' + file):\n",
    "        shutil.move(path + file,path + 'Table Files\\\\' + file)"
   ]
  }
 ],
 "metadata": {
  "kernelspec": {
   "display_name": "Python 3 (ipykernel)",
   "language": "python",
   "name": "python3"
  },
  "language_info": {
   "codemirror_mode": {
    "name": "ipython",
    "version": 3
   },
   "file_extension": ".py",
   "mimetype": "text/x-python",
   "name": "python",
   "nbconvert_exporter": "python",
   "pygments_lexer": "ipython3",
   "version": "3.12.4"
  }
 },
 "nbformat": 4,
 "nbformat_minor": 5
}
